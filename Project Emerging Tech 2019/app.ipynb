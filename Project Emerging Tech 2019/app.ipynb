{
 "cells": [
  {
   "cell_type": "code",
   "execution_count": 23,
   "metadata": {},
   "outputs": [
    {
     "ename": "ModuleNotFoundError",
     "evalue": "No module named 'load'",
     "output_type": "error",
     "traceback": [
      "\u001b[1;31m---------------------------------------------------------------------------\u001b[0m",
      "\u001b[1;31mModuleNotFoundError\u001b[0m                       Traceback (most recent call last)",
      "\u001b[1;32m<ipython-input-23-5e2bbcbbd174>\u001b[0m in \u001b[0;36m<module>\u001b[1;34m\u001b[0m\n\u001b[0;32m     24\u001b[0m \u001b[1;31m#tell our app where our saved model is\u001b[0m\u001b[1;33m\u001b[0m\u001b[1;33m\u001b[0m\u001b[1;33m\u001b[0m\u001b[0m\n\u001b[0;32m     25\u001b[0m \u001b[0msys\u001b[0m\u001b[1;33m.\u001b[0m\u001b[0mpath\u001b[0m\u001b[1;33m.\u001b[0m\u001b[0mappend\u001b[0m\u001b[1;33m(\u001b[0m\u001b[0mos\u001b[0m\u001b[1;33m.\u001b[0m\u001b[0mpath\u001b[0m\u001b[1;33m.\u001b[0m\u001b[0mabspath\u001b[0m\u001b[1;33m(\u001b[0m\u001b[1;34m\"/model\"\u001b[0m\u001b[1;33m)\u001b[0m\u001b[1;33m)\u001b[0m\u001b[1;33m\u001b[0m\u001b[1;33m\u001b[0m\u001b[0m\n\u001b[1;32m---> 26\u001b[1;33m \u001b[1;32mfrom\u001b[0m \u001b[0mload\u001b[0m \u001b[1;32mimport\u001b[0m \u001b[1;33m*\u001b[0m\u001b[1;33m\u001b[0m\u001b[1;33m\u001b[0m\u001b[0m\n\u001b[0m",
      "\u001b[1;31mModuleNotFoundError\u001b[0m: No module named 'load'"
     ]
    }
   ],
   "source": [
    "#our web app framework!\n",
    "\n",
    "#you could also generate a skeleton from scratch via\n",
    "#http://flask-appbuilder.readthedocs.io/en/latest/installation.html\n",
    "\n",
    "#Generating HTML from within Python is not fun, and actually pretty cumbersome because you have to do the\n",
    "#HTML escaping on your own to keep the application secure. Because of that Flask configures the Jinja2 template engine \n",
    "#for you automatically.\n",
    "#requests are objects that flask handles (get set post, etc)\n",
    "from flask import Flask, render_template,request\n",
    "#scientific computing library for saving, reading, and resizing images\n",
    "from scipy import misc\n",
    "#for matrix math\n",
    "import numpy as np\n",
    "#for importing our keras model\n",
    "import keras.models\n",
    "#for regular expressions, saves time dealing with string data\n",
    "import re\n",
    "\n",
    "#system level operations (like loading files)\n",
    "import sys \n",
    "#for reading operating system data\n",
    "import os\n",
    "#tell our app where our saved model is\n",
    "sys.path.append(os.path.abspath(\"/model\"))\n",
    "from load import * "
   ]
  },
  {
   "cell_type": "code",
   "execution_count": null,
   "metadata": {},
   "outputs": [],
   "source": []
  }
 ],
 "metadata": {
  "kernelspec": {
   "display_name": "Python 3",
   "language": "python",
   "name": "python3"
  },
  "language_info": {
   "codemirror_mode": {
    "name": "ipython",
    "version": 3
   },
   "file_extension": ".py",
   "mimetype": "text/x-python",
   "name": "python",
   "nbconvert_exporter": "python",
   "pygments_lexer": "ipython3",
   "version": "3.7.2"
  }
 },
 "nbformat": 4,
 "nbformat_minor": 2
}
