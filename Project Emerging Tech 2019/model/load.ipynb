{
 "cells": [
  {
   "cell_type": "code",
   "execution_count": 1,
   "metadata": {},
   "outputs": [
    {
     "name": "stderr",
     "output_type": "stream",
     "text": [
      "Using TensorFlow backend.\n"
     ]
    }
   ],
   "source": [
    "import numpy as np\n",
    "import keras.models\n",
    "from keras.models import model_from_json\n",
    "from scipy import *\n",
    "import tensorflow as tf"
   ]
  },
  {
   "cell_type": "code",
   "execution_count": 2,
   "metadata": {},
   "outputs": [],
   "source": [
    "def init(): \n",
    "\tjson_file = open('model.json','r')\n",
    "\tloaded_model_json = json_file.read()\n",
    "\tjson_file.close()\n",
    "\tloaded_model = model_from_json(loaded_model_json)\n",
    "\t#load woeights into new model\n",
    "\tloaded_model.load_weights(\"model.h5\")\n",
    "\tprint(\"Loaded Model from disk\")\n",
    "\n",
    "\t#compile and evaluate loaded model\n",
    "\tloaded_model.compile(loss='categorical_crossentropy',optimizer='adam',metrics=['accuracy'])\n",
    "\t#loss,accuracy = model.evaluate(X_test,y_test)\n",
    "\t#print('loss:', loss)\n",
    "\t#print('accuracy:', accuracy)\n",
    "\tgraph = tf.compat.v1.get_default_graph()\n",
    "\n",
    "\treturn loaded_model,graph"
   ]
  }
 ],
 "metadata": {
  "kernelspec": {
   "display_name": "Python 3",
   "language": "python",
   "name": "python3"
  },
  "language_info": {
   "codemirror_mode": {
    "name": "ipython",
    "version": 3
   },
   "file_extension": ".py",
   "mimetype": "text/x-python",
   "name": "python",
   "nbconvert_exporter": "python",
   "pygments_lexer": "ipython3",
   "version": "3.7.2"
  }
 },
 "nbformat": 4,
 "nbformat_minor": 2
}
